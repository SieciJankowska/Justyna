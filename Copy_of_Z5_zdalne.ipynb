{
  "nbformat": 4,
  "nbformat_minor": 0,
  "metadata": {
    "colab": {
      "name": "Copy of Z5_zdalne.ipynb",
      "provenance": [],
      "collapsed_sections": [],
      "include_colab_link": true
    },
    "kernelspec": {
      "name": "python3",
      "display_name": "Python 3"
    }
  },
  "cells": [
    {
      "cell_type": "markdown",
      "metadata": {
        "id": "view-in-github",
        "colab_type": "text"
      },
      "source": [
        "<a href=\"https://colab.research.google.com/github/SieciJankowska/Justyna/blob/grupa2/Copy_of_Z5_zdalne.ipynb\" target=\"_parent\"><img src=\"https://colab.research.google.com/assets/colab-badge.svg\" alt=\"Open In Colab\"/></a>"
      ]
    },
    {
      "cell_type": "markdown",
      "metadata": {
        "id": "kjZ_A0GD7J2e",
        "colab_type": "text"
      },
      "source": [
        "# **Sieci - zajęcia 5 - 23.03.2020 (zdalne)**"
      ]
    },
    {
      "cell_type": "markdown",
      "metadata": {
        "id": "gBhjcrrl622p",
        "colab_type": "text"
      },
      "source": [
        "# Wprowadzenie\n",
        "\n",
        "W tym temacie poznają Państwo dwie **pętle**: **for** i **while**. A co jeszcze znajdą Państwo w tym temacie? Cóż, do tej pory korzystaliśmy z kilku predefiniowanych funkcji z biblioteki standardowej Pythona np. print(), len(). Nadszedł wreszcie czas, aby zacząć pisać własne funkcje. **Definiowanie własnych funkcji** zostanie z nami przez kilka tematów, w tym zaczniemy. Ponadto przypomnimy i uporządkujemy sobie również informacje o funkcji **input()**.\n",
        "\n",
        "Struktura tego notatnika jest następująca: najpierw podstawowe informacje o każdym zagadnieniu, następnie przykłady i na końcu 3 zadania do samodzielnego wykonania.\n",
        "\n",
        "*Przypomnienie:*\n",
        "\n",
        "*Proszę się od razu nie zrażać, gdyby napotykali Państwo błędy podczas wykonywania tych zadań – proszę w pierwszej kolejności przeanalizować komunikat o błędzie, gdyż może on Państwa nakierować na odpowiedź np. literówkę, brak wcięcia, błędnie zdefiniowany typ.* \n",
        "\n",
        "*Na Pegazie, w osobnym temacie (na końcu naszego kursu), zamieszczam przykłady odpowiedzi do tych zadań. Proszę rozsądnie z nich korzystać, tj. proszę wpierw podjąć próbę samodzielnego rozwiązania zadań.* \n",
        "\n",
        "*W razie pytań lub problemów, proszę o kontakt mailowy, przez Pegaz lub FB (najlepiej od razu z Państwa kodem i opisem problemu).*\n"
      ]
    },
    {
      "cell_type": "markdown",
      "metadata": {
        "id": "PTKIAfK17h0c",
        "colab_type": "text"
      },
      "source": [
        "# **input() - informacje**"
      ]
    },
    {
      "cell_type": "markdown",
      "metadata": {
        "id": "0Q2tO1e3Db7D",
        "colab_type": "text"
      },
      "source": [
        "**input()** służy do pobrania danych z klawiatury (użytkownik ma możliwość wpisania danych, np. odpowiedzi na pytanie). Ze względu na przejrzystość działania programu, należy podać użytkownikowi odpowiedni komunikat, tak by wiedział, co ma wprowadzić, np. podaj swoje imię, jeśli chcemy pozyskać informację o imieniu użytkownika.\n"
      ]
    },
    {
      "cell_type": "markdown",
      "metadata": {
        "id": "VUFaBtbmapJh",
        "colab_type": "text"
      },
      "source": [
        "Są dwa warianty zamieszczania komunikatu przy fukcji input(). \n",
        "\n",
        "*   **Wariant 1** - zamieszczam komunikat w funkcji print(), zaś nawiast od funkcji input zostawiam pusty\n",
        "*   **Wariant 2** - zamieszczam komunikat wewnątrz nawiasu funkcji input()\n",
        "\n",
        "Przypomnijmy: komunikat jest potrzebny użytkownikowi, aby wiedział, co ma wpisać (czego system od niego oczekuje).\n",
        "\n",
        "\n"
      ]
    },
    {
      "cell_type": "code",
      "metadata": {
        "id": "FBDaYzAmb1By",
        "colab_type": "code",
        "outputId": "aeec96d2-ec7c-4433-dd24-bfa6ad5a337d",
        "colab": {
          "base_uri": "https://localhost:8080/",
          "height": 67
        }
      },
      "source": [
        "#Wariant 1\n",
        "print('Enter your name:')\n",
        "x = input()\n",
        "print('Hello, ' + x)"
      ],
      "execution_count": 0,
      "outputs": [
        {
          "output_type": "stream",
          "text": [
            "Enter your name:\n",
            "Magda\n",
            "Hello, Magda\n"
          ],
          "name": "stdout"
        }
      ]
    },
    {
      "cell_type": "code",
      "metadata": {
        "id": "bF-IqTvvcFen",
        "colab_type": "code",
        "outputId": "e1d89de9-dcc6-4049-dde2-b7a49bb0fe23",
        "colab": {
          "base_uri": "https://localhost:8080/",
          "height": 50
        }
      },
      "source": [
        "#Wariant 2\n",
        "x = input('Enter your name:')\n",
        "print('Hello, ' + x)"
      ],
      "execution_count": 0,
      "outputs": [
        {
          "output_type": "stream",
          "text": [
            "Enter your name:Magda\n",
            "Hello, Magda\n"
          ],
          "name": "stdout"
        }
      ]
    },
    {
      "cell_type": "markdown",
      "metadata": {
        "id": "J2UmihKEZujN",
        "colab_type": "text"
      },
      "source": [
        "# **pętle**"
      ]
    },
    {
      "cell_type": "markdown",
      "metadata": {
        "id": "Irva9xraaJFc",
        "colab_type": "text"
      },
      "source": [
        "W Pythonie są dwie pętle: **for** i **while**\n",
        "\n",
        "Pętle umożliwiają powtarzanie (iterację) jakiegoś kodu. \n",
        "\n",
        "Zasadniczo możemy stosować obie pętle, do rozwiązania tego samego problemu. Wybór zależy głównie od tego, którą z tych dwóch pętli wolimy. Niemniej należy znać składnię obu.\n",
        "\n",
        "Podstawowe różnice między tymi pętlami:\n",
        "*   w obu pętlach mamy warunek,  z tym że w pętli **for** przyjmuje on specyficzną postać: podajemy jakąś **wartość końcową**, jakiś zakres wartości\n",
        "*   w pętli **for** nie musimy definiować wartości początkowej zmiennej do iteracji, z kolei w pętli **while** musimy **zainicjować tę zmienną i jej wartość**\n",
        "\n",
        "\n",
        "\n",
        "\n"
      ]
    },
    {
      "cell_type": "markdown",
      "metadata": {
        "id": "Sbccl2fjsvSo",
        "colab_type": "text"
      },
      "source": [
        "Dodatkowe materiały odnośnie do tych pętli:\n",
        "\n",
        "[LearnPython - Pętle](https://www.learnpython.org/pl/Petle)\n",
        "\n",
        "[YouTube - Pętle for oraz while w Pythonie](https://www.youtube.com/watch?v=mpbvHCO6U3w)\n",
        "\n",
        "[FlyNerd - pętla for](https://www.flynerd.pl/2018/05/python-7-petla-for-python.html)\n",
        "\n",
        "[FlyNerd - pętla while](https://www.flynerd.pl/2019/06/python-8-petla-while.html)"
      ]
    },
    {
      "cell_type": "markdown",
      "metadata": {
        "id": "K0lqalRlob48",
        "colab_type": "text"
      },
      "source": [
        "# **pętla for**"
      ]
    },
    {
      "cell_type": "markdown",
      "metadata": {
        "id": "eFIsGYlZghKQ",
        "colab_type": "text"
      },
      "source": [
        "Pętla **for** zawiera:\n",
        "\n",
        "*   słowo kluczowe **for**\n",
        "*   **nazwę zmiennej, po której będziemy iterować pętlę** (wartość tej zmiennej zwiększa się z każdym przebiegiem pętli)\n",
        "*   słowo kluczowe **in**\n",
        "*   **wartość do przebiegu iteracji** (wyznacza nam koniec przebiegu pętli)\n",
        "*  **dwukropek**\n",
        "*   **blok kodu**, który jest **wykonywany w pętli** - ten blok kodu musi być oznaczony **wcięciem**\n",
        "\n",
        "\n",
        "\n",
        "\n",
        "\n",
        "\n",
        "\n"
      ]
    },
    {
      "cell_type": "code",
      "metadata": {
        "id": "AkYIgI8Rh6wC",
        "colab_type": "code",
        "outputId": "5b43ca19-fbd8-4cab-e892-e297a7d8d465",
        "colab": {
          "base_uri": "https://localhost:8080/",
          "height": 67
        }
      },
      "source": [
        "#przykład pętli for z wypisaniem elementów listy organizacje\n",
        "organizacje = [\"Dog Rescue\", \"Animal Patrol\", \"KTOZ\"]\n",
        "\n",
        "for organizacja in organizacje:\n",
        "  print(organizacja)\n"
      ],
      "execution_count": 0,
      "outputs": [
        {
          "output_type": "stream",
          "text": [
            "Dog Rescue\n",
            "Animal Patrol\n",
            "KTOZ\n"
          ],
          "name": "stdout"
        }
      ]
    },
    {
      "cell_type": "markdown",
      "metadata": {
        "id": "MLFwtLrjix7-",
        "colab_type": "text"
      },
      "source": [
        "**UWAGA:**\n",
        "\n",
        "skąd wzięła się nam zmienna *organizacja* z powyższego przykładu?\n",
        "Nie definiowaliśmy wcześniej takiej zmiennej. I nie musieliśmy tego robić. \n",
        "\n",
        "To, co wpiszemy w pętli for pomiędzy słowami kluczowymi ***for*** i ***in***, służy nam tylko lokalnie, do wykonania naszej pętli. W powyższym przypadku była to nazwa *organizacja*, ale równie dobrze kod by poszedł, gdybym w jej miejsce podstawiła *x*, *i* itd. \n",
        "\n",
        "Dlaczego zatem *organizacja*, a nie krótsze *x*?\n",
        "\n",
        "Odp: to dobra praktyka, w ten sposób kod jest bardziej czytelny.\n",
        "Jeśli - tak, jak jest w powyższym przypadku - iteruję elementy listy, która nazwana jest liczbą mnogą (*organizacje*), to nazywam moją zmienną tak, by była powiązana semantycznie z wartością do iteracji (np. listą *organizacje*), ale w liczbie pojedynczej (stąd *organizacja*).\n",
        "\n",
        "W uproszczeniu, w powyższym kodzie chodzi o to:\n",
        "dla każdzej organizacji z listy wykonaj instrukcję, czyli wypisz nazwę tej organizacji. "
      ]
    },
    {
      "cell_type": "markdown",
      "metadata": {
        "id": "RiWQsFBjmVUz",
        "colab_type": "text"
      },
      "source": [
        "Pętlę for można łączyć z funkcją **range()**, która określa zakres."
      ]
    },
    {
      "cell_type": "code",
      "metadata": {
        "id": "xmltb7I6md9T",
        "colab_type": "code",
        "outputId": "6182f734-04f8-4996-cd15-f63b28c7ea4c",
        "colab": {
          "base_uri": "https://localhost:8080/",
          "height": 134
        }
      },
      "source": [
        "#wypisuję liczby od 0 do 6 za pomocą for i range\n",
        "#uwaga: wewnątrz nawiasu od range muszę wpisać 7, aby iteracja była do 6\n",
        "#gdybym chciała wypisać liczby do 13, w nawiasie musiałabym wpisać 14 itd.\n",
        "\n",
        "for i in range(7):\n",
        "  print(i)"
      ],
      "execution_count": 0,
      "outputs": [
        {
          "output_type": "stream",
          "text": [
            "0\n",
            "1\n",
            "2\n",
            "3\n",
            "4\n",
            "5\n",
            "6\n"
          ],
          "name": "stdout"
        }
      ]
    },
    {
      "cell_type": "code",
      "metadata": {
        "id": "BpFXCm4anGTF",
        "colab_type": "code",
        "outputId": "cbcabdb7-0188-43ce-91e0-fbaf281079da",
        "colab": {
          "base_uri": "https://localhost:8080/",
          "height": 118
        }
      },
      "source": [
        "#wypisuję liczby od 1 do 6 za pomocą for i range\n",
        "#aby zdefiniować początkową liczbę (1), podaję ją jako pierwszy argument w nawiasie od funkcji range()\n",
        "\n",
        "for i in range(1,7):\n",
        "  print(i)"
      ],
      "execution_count": 0,
      "outputs": [
        {
          "output_type": "stream",
          "text": [
            "1\n",
            "2\n",
            "3\n",
            "4\n",
            "5\n",
            "6\n"
          ],
          "name": "stdout"
        }
      ]
    },
    {
      "cell_type": "code",
      "metadata": {
        "id": "Lv7rxgKOnfQM",
        "colab_type": "code",
        "outputId": "175c66cd-0f18-410e-914e-67ddb230012a",
        "colab": {
          "base_uri": "https://localhost:8080/",
          "height": 134
        }
      },
      "source": [
        "#W przypadku pętli powtórzony zostaje tylko ten element kodu, który został umieszczony po wcięciu.\n",
        "#W poniższym przykładzie napis \"Koniec pętli\" wyświetli się tylko raz, po zakończeniu pętli.\n",
        "\n",
        "for i in range(1,7):\n",
        "  print(i)\n",
        "print(\"Koniec pętli\")"
      ],
      "execution_count": 0,
      "outputs": [
        {
          "output_type": "stream",
          "text": [
            "1\n",
            "2\n",
            "3\n",
            "4\n",
            "5\n",
            "6\n",
            "Koniec pętli\n"
          ],
          "name": "stdout"
        }
      ]
    },
    {
      "cell_type": "code",
      "metadata": {
        "id": "fxMCd9GkoFop",
        "colab_type": "code",
        "outputId": "3edb41ef-1867-4883-b323-4ed1787e5026",
        "colab": {
          "base_uri": "https://localhost:8080/",
          "height": 218
        }
      },
      "source": [
        "#Gdybym przez pomyłkę umieściła napis \"Koniec pętli\" po wcięciu, napis zostałby powtórzony przy każdej iteracji pętli.\n",
        "\n",
        "for i in range(1,7):\n",
        "  print(i)\n",
        "  print(\"Koniec pętli\")"
      ],
      "execution_count": 0,
      "outputs": [
        {
          "output_type": "stream",
          "text": [
            "1\n",
            "Koniec pętli\n",
            "2\n",
            "Koniec pętli\n",
            "3\n",
            "Koniec pętli\n",
            "4\n",
            "Koniec pętli\n",
            "5\n",
            "Koniec pętli\n",
            "6\n",
            "Koniec pętli\n"
          ],
          "name": "stdout"
        }
      ]
    },
    {
      "cell_type": "markdown",
      "metadata": {
        "id": "UaFQh201pOvd",
        "colab_type": "text"
      },
      "source": [
        "# **pętla while**"
      ]
    },
    {
      "cell_type": "markdown",
      "metadata": {
        "id": "mTgX9tzFpTjO",
        "colab_type": "text"
      },
      "source": [
        "Petla **while** wykonywana jest dopóki określony w niej warunek jest spełniony. Na początku, jeszcze poza pętlą, musimy zdefiniować zmienną, którą będziemy iterować, przypisać jej **wartość początkową**. Wewnątrz pętli musimy pamiętać o **zwiększeniu wartość** tej zmiennej. \n",
        "\n",
        "Pętla **while** składa się z:\n",
        "*   zdefiniowania **zmiennej** do iteracji i przypisania jej **wartości początkowej**\n",
        "*   słowa kluczowego **while**\n",
        "* **warunku**\n",
        "*   **dwukropka**\n",
        "*   **bloku kodu**, który ma być powtarzany w pętli (**po wcięciu**, w ostatniej linicje tego bloku powinno się **zwiększyć wartość zmiennej iteracyjnej**).\n",
        "\n"
      ]
    },
    {
      "cell_type": "code",
      "metadata": {
        "id": "fNVP9mdDvwcF",
        "colab_type": "code",
        "outputId": "5c04cbcb-44f3-46ed-9ef8-3228188930af",
        "colab": {
          "base_uri": "https://localhost:8080/",
          "height": 67
        }
      },
      "source": [
        "#wypisanie elementów listy za pomocą pętli while\n",
        "\n",
        "\n",
        "#definiuję listę - tutaj nazywam ją org, a nie organizacje, żeby nie nadpisywać zmiennych w notatniku\n",
        "org = [\"Dog Rescue\", \"Animal Patrol\", \"KTOZ\"]\n",
        "\n",
        "#teraz inicjuję zmienną do iteracji i przypisuję jej wartość początkową zero\n",
        "i = 0\n",
        "\n",
        "#teraz rozpoczynam moją pętlę while\n",
        "while i in range(0, len(org)): #pętla będzie wykonywana, dopóki wartość zmiennej i będzie między 0 a 3 (to 3 się wzięło z len(org))\n",
        "    print(org[i]) #wypisuję element listy o indeksie i; przy pierwszej pętli będzie to 0, przy drugiej 1, przy trzeciej 2\n",
        "    i+=1 #tutaj, wciąż w pętli (jest wcięcie), zwiększam wartość mojej zmiennej i\n"
      ],
      "execution_count": 0,
      "outputs": [
        {
          "output_type": "stream",
          "text": [
            "Dog Rescue\n",
            "Animal Patrol\n",
            "KTOZ\n"
          ],
          "name": "stdout"
        }
      ]
    },
    {
      "cell_type": "code",
      "metadata": {
        "colab_type": "code",
        "id": "v923_XbxxBuh",
        "colab": {}
      },
      "source": [
        "#bardzo ważne jest pamiętanie o zmianie wartośći zmiennej, po której iterujemy\n",
        "#w naszym przypadku jest to zmienna i\n",
        "#w poprzedniej komórce zwiększyłam wartość zmiennej i o 1\n",
        "#gdyby tego nie zrobiła, nie udałoby mi się wszystkich elementów listy\n",
        "#co więcej, puściłabym pętlę w nieskończoność\n",
        "\n",
        "org = [\"Dog Rescue\", \"Animal Patrol\", \"KTOZ\"]\n",
        "i = 0\n",
        "\n",
        "while i in range(0, len(org)): \n",
        "    print(org[i]) \n",
        "    #tutaj powinno być zwiększenie wartości zmiennej i i+=1"
      ],
      "execution_count": 0,
      "outputs": []
    },
    {
      "cell_type": "markdown",
      "metadata": {
        "id": "-wn-DZGBaFAx",
        "colab_type": "text"
      },
      "source": [
        "# **funkcje**"
      ]
    },
    {
      "cell_type": "markdown",
      "metadata": {
        "id": "HFwdTWWQaKPY",
        "colab_type": "text"
      },
      "source": [
        "**Funkcja** to fragment kodu. Możemy wykonywać ten kod wielokrotnie i w różnych miejsca programu. Nie trzeba przy tym przepisywać wielu, tych samych linijek kodu - wystarczy wywołać funkcję po jej nazwie (i ewentualnie podać argumenty funkcji). \n",
        "\n",
        "Własną funkcję definiuje się za pomocą słowa kluczowego **def**. Następnie wpisujemy **nazwę funkcji** i **nawias okrągły**. Jeśli nie chcemy w tym miejscu podawać **argumentów** funkcji, nawias będzie pusty (). Jeśli chcemy podać argumenty funkcji, podajemy je w tym nawiasie i rozdzielamy przecinkami, gdy jest ich więcej niż jeden. Po nawiasie musi być **dwukropek**. Następnie przechodzimy do nowej linijki i - **po wcięciu** - piszemy **kod naszej funkcji**. \n",
        "\n",
        "Na końcu funkcji możemy jeszcze wywołać rezultat działania naszej funkcji za pomocą słowa **return**.\n"
      ]
    },
    {
      "cell_type": "code",
      "metadata": {
        "id": "pUcgQs_93Wxy",
        "colab_type": "code",
        "colab": {}
      },
      "source": [
        "#Oto przykład funkcji liczącej silnię.\n",
        "#Funkcja ma nazwę silnia i zawiera jeden argument, który roboczo nazwałam n - liczbę, dla której poda silnię\n",
        "\n",
        "def silnia(n):\n",
        "    s = 1\n",
        "    if n < 2:\n",
        "        return 1\n",
        "    for i in range(2, n + 1):\n",
        "        s *= i\n",
        "    return s\n"
      ],
      "execution_count": 0,
      "outputs": []
    },
    {
      "cell_type": "code",
      "metadata": {
        "id": "w-zI_8PQ4Ade",
        "colab_type": "code",
        "outputId": "33e830c9-3ad0-41c8-9af0-947db9f358a3",
        "colab": {
          "base_uri": "https://localhost:8080/",
          "height": 34
        }
      },
      "source": [
        "#aby wywołać funkcję muszę podać nazwę i argumenty tej funkcji\n",
        "#jeśli chcę otrzymać silnię dla 3, zrobię to tak:\n",
        "\n",
        "silnia(3)"
      ],
      "execution_count": 0,
      "outputs": [
        {
          "output_type": "execute_result",
          "data": {
            "text/plain": [
              "6"
            ]
          },
          "metadata": {
            "tags": []
          },
          "execution_count": 11
        }
      ]
    },
    {
      "cell_type": "code",
      "metadata": {
        "id": "3Nyj5vXK4U1C",
        "colab_type": "code",
        "outputId": "8205e0e4-dca2-4890-e492-fb9eca7545d3",
        "colab": {
          "base_uri": "https://localhost:8080/",
          "height": 34
        }
      },
      "source": [
        "#mogę też wywołać wynik wewnątrz funkcji print()\n",
        "\n",
        "print(silnia(3))"
      ],
      "execution_count": 0,
      "outputs": [
        {
          "output_type": "stream",
          "text": [
            "6\n"
          ],
          "name": "stdout"
        }
      ]
    },
    {
      "cell_type": "code",
      "metadata": {
        "id": "_e-6wvD04d1x",
        "colab_type": "code",
        "colab": {}
      },
      "source": [
        "#teraz przekształcę tę funkcję\n",
        "#nie chcę podawać argumentu w nawiasie, \n",
        "#tylko chcę dać użytkownikowi możliwość podania tej liczby za pomocą funkcji input()\n",
        "\n",
        "#z pierwszej linijki usuwam n i zostawiam pusty nawias\n",
        "def silnia2 ():\n",
        "  #teraz do n przypisuję to, co użytkownik wprowadzi z klawiatury za pomocą input()\n",
        "  n = int(input(\"Podaj liczbę, z której chcesz otrzymać silnię: \"))\n",
        "  #reszta kodu jest taka sama\n",
        "  s = 1\n",
        "  if n < 2:\n",
        "    return 1\n",
        "  for i in range(2, n +1):\n",
        "    s *= i\n",
        "  return s"
      ],
      "execution_count": 0,
      "outputs": []
    },
    {
      "cell_type": "code",
      "metadata": {
        "id": "uYKlyZqP5QBQ",
        "colab_type": "code",
        "outputId": "696ccd1f-4333-48d7-e550-adbc419bf17f",
        "colab": {
          "base_uri": "https://localhost:8080/",
          "height": 50
        }
      },
      "source": [
        "#teraz wywołuję tę funkcję po nazwie; nawias ma być pusty, gdyż ta funkcja nie ma argumentu\n",
        "silnia2()"
      ],
      "execution_count": 0,
      "outputs": [
        {
          "output_type": "stream",
          "text": [
            "Podaj liczbę, z której chcesz otrzymać silnię: 7\n"
          ],
          "name": "stdout"
        },
        {
          "output_type": "execute_result",
          "data": {
            "text/plain": [
              "5040"
            ]
          },
          "metadata": {
            "tags": []
          },
          "execution_count": 14
        }
      ]
    },
    {
      "cell_type": "markdown",
      "metadata": {
        "id": "oiGqJszz37DS",
        "colab_type": "text"
      },
      "source": [
        "Jak zapewne Państwo zauważyli, w powyższej komórce funkcja input() została umieszczona wewnątrz int(). \n",
        "\n",
        "Dlaczego?\n",
        "\n",
        "Wszystko to, co wprowadzamy z klawiatury za pomocą funkcji input() jest domyślnie traktowane jako ciąg znaków. Nam nie zależało na ciągu znaków, tylko na liczbie. Stąd int(), które umożliwia nam przejście ze znaku \"3\" na liczbę 3. \n",
        "\n",
        "Bez tego **int**(input()) wyskoczyłby nam błąd po podaniu danych z klawiatury."
      ]
    },
    {
      "cell_type": "markdown",
      "metadata": {
        "id": "4ZwlijDo8JHR",
        "colab_type": "text"
      },
      "source": [
        "# **zadania**"
      ]
    },
    {
      "cell_type": "markdown",
      "metadata": {
        "id": "krZ6jvqt8fu_",
        "colab_type": "text"
      },
      "source": [
        "**Ćwiczenie 1.** Napisz pętlę for, za pomocą której wypiszesz wszystkie znaki z ciągu \"literatura\", tj. otrzymasz w kolejnych linijkach \"l\", \"i\", \"t\" itd.\n",
        "\n",
        "**Ćwiczenie 2.** Napisz funkcję, za pomocą której wypiszesz powtórzenia ciągu znaków \"Teoria relewancji\". Uwaga, musisz zastosować pętlę while, a liczba powtórzeń ma być podana przez użytkownika z klawiatury (zatem musisz zastosować funkcję input() ).\n",
        "\n",
        "**Ćwiczenie 3.** Napisz funkcję, za pomocą której sprawdzisz, czy podany przez użytkownika rok jest przestępny.\n"
      ]
    },
    {
      "cell_type": "code",
      "metadata": {
        "id": "Bg5godSPEJog",
        "colab_type": "code",
        "colab": {}
      },
      "source": [
        "#Miejsce na Państwa rozwiązania. \n",
        "#Oczywiście nie musi być wszystko w jednej komórce kodu; mogą dodawać Państwo tyle komórek kodu, ile zechcą."
      ],
      "execution_count": 0,
      "outputs": []
    },
    {
      "cell_type": "markdown",
      "metadata": {
        "id": "JAWBlcMj_g11",
        "colab_type": "text"
      },
      "source": [
        "Ćwiczenie 1"
      ]
    },
    {
      "cell_type": "code",
      "metadata": {
        "id": "4DOcVXt1avvq",
        "colab_type": "code",
        "outputId": "f34a5cbc-38dc-49bf-c23b-c74dbf139552",
        "colab": {
          "base_uri": "https://localhost:8080/",
          "height": 187
        }
      },
      "source": [
        "for i in \"literatura\":\n",
        "  print(\": \", i)"
      ],
      "execution_count": 0,
      "outputs": [
        {
          "output_type": "stream",
          "text": [
            ":  l\n",
            ":  i\n",
            ":  t\n",
            ":  e\n",
            ":  r\n",
            ":  a\n",
            ":  t\n",
            ":  u\n",
            ":  r\n",
            ":  a\n"
          ],
          "name": "stdout"
        }
      ]
    },
    {
      "cell_type": "markdown",
      "metadata": {
        "id": "OxIHQLjo_pxY",
        "colab_type": "text"
      },
      "source": [
        "Ćwiczenie 2"
      ]
    },
    {
      "cell_type": "code",
      "metadata": {
        "id": "zQA_zYQQuQkr",
        "colab_type": "code",
        "outputId": "471aba4d-9a94-45be-95fe-e508ad813309",
        "colab": {
          "base_uri": "https://localhost:8080/",
          "height": 34
        }
      },
      "source": [
        "powt = [\"Teoria relewancji\"]\n",
        "i=0\n",
        "while i in range(0, len(powt)):\n",
        "  print(powt[i])\n",
        "  i+=1"
      ],
      "execution_count": 0,
      "outputs": [
        {
          "output_type": "stream",
          "text": [
            "Teoria relewancji\n"
          ],
          "name": "stdout"
        }
      ]
    },
    {
      "cell_type": "code",
      "metadata": {
        "id": "sKhoqRxfcnAL",
        "colab_type": "code",
        "colab": {}
      },
      "source": [
        "def teor ():\n",
        "    x = \"Teoria relewancji \"\n",
        "    a = 0\n",
        "    a = int(input(\"Podaj liczbę powtórzeń ciągu znaków: \"))\n",
        "    if a == 0:\n",
        "        print (\"Podałeś za małą liczbę\")\n",
        "    while a > 0: \n",
        "      x *= a\n",
        "      return x"
      ],
      "execution_count": 0,
      "outputs": []
    },
    {
      "cell_type": "code",
      "metadata": {
        "id": "tfPMPUofqV2E",
        "colab_type": "code",
        "colab": {
          "base_uri": "https://localhost:8080/",
          "height": 51
        },
        "outputId": "32b25bea-ce03-4ebe-f1a5-3dd8a0637021"
      },
      "source": [
        "teor()"
      ],
      "execution_count": 30,
      "outputs": [
        {
          "output_type": "stream",
          "text": [
            "Podaj liczbę powtórzeń ciągu znaków: 3\n"
          ],
          "name": "stdout"
        },
        {
          "output_type": "execute_result",
          "data": {
            "text/plain": [
              "'Teoria relewancji Teoria relewancji Teoria relewancji '"
            ]
          },
          "metadata": {
            "tags": []
          },
          "execution_count": 30
        }
      ]
    },
    {
      "cell_type": "markdown",
      "metadata": {
        "id": "f27W5EnmeX46",
        "colab_type": "text"
      },
      "source": [
        "Ćwiczenie 3"
      ]
    },
    {
      "cell_type": "code",
      "metadata": {
        "id": "ood18VMqbzec",
        "colab_type": "code",
        "outputId": "d45c5285-52af-492f-b903-f0afb157a448",
        "colab": {
          "base_uri": "https://localhost:8080/",
          "height": 51
        }
      },
      "source": [
        "x = int(input())\n",
        "if (x % 4 == 0 and x % 100 != 0) or x % 400 == 0:\n",
        "    print(\"Rok jest przestępny\")\n",
        "else:\n",
        "    print(\"Rok nie jest przestępny\")"
      ],
      "execution_count": 0,
      "outputs": [
        {
          "output_type": "stream",
          "text": [
            "1628\n",
            "Rok jest przestępny\n"
          ],
          "name": "stdout"
        }
      ]
    },
    {
      "cell_type": "code",
      "metadata": {
        "id": "TWguXoxJgQQX",
        "colab_type": "code",
        "colab": {}
      },
      "source": [
        ""
      ],
      "execution_count": 0,
      "outputs": []
    }
  ]
}