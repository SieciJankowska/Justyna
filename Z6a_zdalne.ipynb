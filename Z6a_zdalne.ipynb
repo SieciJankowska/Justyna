{
  "nbformat": 4,
  "nbformat_minor": 0,
  "metadata": {
    "colab": {
      "name": "Copy of Copy of Copy of Z6a_zdalne.ipynb",
      "provenance": [],
      "collapsed_sections": [],
      "include_colab_link": true
    },
    "kernelspec": {
      "name": "python3",
      "display_name": "Python 3"
    }
  },
  "cells": [
    {
      "cell_type": "markdown",
      "metadata": {
        "id": "view-in-github",
        "colab_type": "text"
      },
      "source": [
        "<a href=\"https://colab.research.google.com/github/SieciJankowska/Justyna/blob/grupa2/Z6a_zdalne.ipynb\" target=\"_parent\"><img src=\"https://colab.research.google.com/assets/colab-badge.svg\" alt=\"Open In Colab\"/></a>"
      ]
    },
    {
      "cell_type": "markdown",
      "metadata": {
        "id": "kjZ_A0GD7J2e",
        "colab_type": "text"
      },
      "source": [
        "# **Sieci - zajęcia 6 - 30.03.2020 (zdalne)** - *część 1*"
      ]
    },
    {
      "cell_type": "markdown",
      "metadata": {
        "id": "gBhjcrrl622p",
        "colab_type": "text"
      },
      "source": [
        "# Wprowadzenie\n",
        "\n",
        "Temat 6 podzielony jest na dwa notatniki Google Colab. W tym notatniku będą doskonalić Państwo **pisanie własnych funkcji**. Przy okazji tych funkcji będziemy wracać do znanych już Państwu treści, takich jak np. **słowniki** i **instrukcja warunkowa if**. Jeśli nie opanowali jeszcze Państwo poprzednich tematów, warto do nich wrócić przed rozpoczęciem pracy w tym notatniku. \n",
        "\n",
        "A propos if: kiedyś już Państwu sygnalizowałam, że tę instukcję można rozbudować. Dzisiaj tym się zajmiemy: nauczą się Państwo w jaki sposób tworzyć kolejne ścieżki, poza standardowymi ścieżkami tak (jeżeli prawda) i nie (jeżeli fałsz).\n",
        "\n",
        "Ten zapowiadany drugi notatnik udostępniam Państwu w osobnym linku na Pegazie. Znajdą w nim Państwo podstawowe operacje na ciągach znaków i plikach tekstowych.\n",
        "\n",
        "Struktura tego notatnika jest następująca: case z objaśnieniami, a na końcu zadania do samodzielnego wykonania.\n",
        "\n",
        "*Przypomnienie:*\n",
        "\n",
        "*Proszę się od razu nie zrażać, gdyby napotykali Państwo błędy podczas wykonywania tych zadań – proszę w pierwszej kolejności przeanalizować komunikat o błędzie, gdyż może on Państwa nakierować na odpowiedź np. literówkę, brak wcięcia, błędnie zdefiniowany typ.* \n",
        "\n",
        "*Na Pegazie, w osobnym temacie (na końcu naszego kursu), zamieszczam przykłady odpowiedzi do tych zadań. Proszę rozsądnie z nich korzystać, tj. proszę wpierw podjąć próbę samodzielnego rozwiązania zadań.* \n",
        "\n",
        "*W razie pytań lub problemów, proszę o kontakt mailowy, przez Pegaz lub FB (najlepiej od razu z Państwa kodem i opisem problemu).*\n"
      ]
    },
    {
      "cell_type": "markdown",
      "metadata": {
        "id": "Q_GNb8ObhueK",
        "colab_type": "text"
      },
      "source": [
        "# **CASE 1 - rok przestępny**"
      ]
    },
    {
      "cell_type": "markdown",
      "metadata": {
        "id": "yC27Xskzhraz",
        "colab_type": "text"
      },
      "source": [
        "W poprzednim temacie (temat 5) mierzyli się Państwo z zadaniem polegającym na napisaniu funkcji, która sprawdzi, czy podany przez użytkownika rok jest przestępny. Udoskonalmy to zadanie, dająć użytkownikowi możliwość powtórzenia procesu. W tym celu napiszemy trzy funkcje i wykorzystamy instrukcję if ze ścieżkami elif i else. \n",
        "\n",
        "**Pierwsza funkcja** będzie polegała na sprawdzeniu, czy rok jest przestępny (to już Państwo mają, gdyż ostatnio nad tym Państwo pracowali).\n",
        "\n",
        "**Druga funkcja** - zapytamy w niej użytkownika, czy chce powtórzyć operację.\n",
        "\n",
        "**Trzecia funkcja** - to będzie nasza finalna funkcja, w której złożymy dwie poprzednie. "
      ]
    },
    {
      "cell_type": "code",
      "metadata": {
        "id": "Gf-J-_34hq0b",
        "colab_type": "code",
        "colab": {}
      },
      "source": [
        "#FUNKCJA 1 - sprawdzam, czy rok jest przestępny\n",
        "#Tę część zapewne już Państwo mają - nie musi być dokładnie taka sama, jak w moim przykładzie.\n",
        "\n",
        "def jakirok():\n",
        "    rok = int(input(\"Podaj rok: \"))\n",
        "    if rok % 4 ==0:\n",
        "        print(\"Rok\", rok, \"jest przestępny.\")\n",
        "    else: \n",
        "        print(\"Rok\", rok, \"nie jest przestępny\")\n"
      ],
      "execution_count": 0,
      "outputs": []
    },
    {
      "cell_type": "code",
      "metadata": {
        "id": "MLFCkC7qkA8l",
        "colab_type": "code",
        "outputId": "9e7542e5-4423-4660-bed1-dd5207b32e30",
        "colab": {
          "base_uri": "https://localhost:8080/",
          "height": 50
        }
      },
      "source": [
        "#Mogę teraz wywołać tę funkcję, aby sprawdzić, czy działa ok\n",
        "\n",
        "jakirok()"
      ],
      "execution_count": 0,
      "outputs": [
        {
          "output_type": "stream",
          "text": [
            "Podaj rok: 2007\n",
            "Rok 2007 nie jest przestępny\n"
          ],
          "name": "stdout"
        }
      ]
    },
    {
      "cell_type": "code",
      "metadata": {
        "id": "aq3bKLzikW3a",
        "colab_type": "code",
        "colab": {}
      },
      "source": [
        "#FUNKCJA 2 - pytam użytkownika, czy chce ponownie wywołać funkcję\n",
        "#Zastosuję w tej funkcji instrukcję if rozbudowaną o dodatkowe ścieżki elif i else\n",
        "\n",
        "def wywolaj_rok():\n",
        "    decyzja=input(\"Czy chcesz ponownie wywołać funkcję? T/N\")\n",
        "    #teraz sprawdzam, czy użytkownik wpisał T (od tak, tj. chcę ponownie wywołać funkcję)\n",
        "    if decyzja == \"T\":\n",
        "        #jeśli użytkownik wpisał T, to idę tą ścieżką tj.\n",
        "        #wywołuję funkcję rok_przestepny() - za chwilę ją zdefiniuję, to będzie ta moja końcowa funkcja\n",
        "        rok_przestepny()\n",
        "        #oraz zostawiam pustą linijkę, aby wyniki były bardziej czytelne\n",
        "        print(\"\")\n",
        "    #Ok, tutaj się pojawia elif\n",
        "    #elif mogę traktować jako takie alernatywne if - w osobnej komórce znajdą Państwo omówienie elif\n",
        "    #tutaj pytam, czy użytkownik wpisał N (od nie, tj. nie chcę ponownie wywołać funkcji)\n",
        "    elif decyzja == \"N\":\n",
        "        #jeśli użytkownik wpisał N, to idę tą ścieżką i wypisuję jakiś końcowy komunikat, który oznajmi użytkownikowi, że funkcja została zakończona\n",
        "        print(\"pa pa\")\n",
        "    #pozostaje mi else\n",
        "    #w tym przypadku stosuję else jako zabezpieczenie, na wypadek, gdyby użytkownik wpisał coś, czego nie przewidziały poprzednie warunki\n",
        "    #program pójdzie ścieżką else, jeżeli użytkownik wpisał cokolwiek poza T i N\n",
        "    else:\n",
        "        #na początku informuję użtkownika o błędzie - czyli o wpisaniu błędnego dla systemu komunikatu\n",
        "        print(\"błędny komunikat, wracasz do początku\")\n",
        "        #następnie ponownie wywołuję moją główną funkcję\n",
        "        rok_przestepny()\n"
      ],
      "execution_count": 0,
      "outputs": []
    },
    {
      "cell_type": "code",
      "metadata": {
        "id": "icp3H5c3nug1",
        "colab_type": "code",
        "colab": {}
      },
      "source": [
        "#teraz jeszcze nie wywołuję funkcji wywolaj_rok\n",
        "#Dlaczego?\n",
        "#Odwołuję się w niej do funkcji rok_przestepny, którą dopiero teraz będę definiować\n",
        "#Gdybym chciała od razu, bez zdefiniowania tej ostatniej funkcji, wywołać funkcję wywolaj_rok(), \n",
        "#otrzymałabym błąd o nierozpoznanej nazwie funkcji rok_przestepny()\n",
        "#Ten błąd wyskoczyłby dopiero po wpisaniu T lub czegoś innego, co nie byłoby N \n",
        "# - czyli dopiero w momencie, gdy działanie użytkownika zaprowadziłoby do ścieżki, która wywołuje funkcję rok_przestepny()"
      ],
      "execution_count": 0,
      "outputs": []
    },
    {
      "cell_type": "code",
      "metadata": {
        "id": "3s_eXJkuoOUl",
        "colab_type": "code",
        "outputId": "54247fbc-12c4-49b4-c287-b2301da6e376",
        "colab": {
          "base_uri": "https://localhost:8080/",
          "height": 296
        }
      },
      "source": [
        "#Jeśli Państwo nie wierzą, oto dowód:\n",
        "#Uwaga: jeśli nie wyświetla się tu Państwu błąd, proszę wyczyścić wszystkie odpowiedzi oraz z zrestartować notatnik\n",
        "#dla przypomnienia\n",
        "# - czyszczenie odpowiedzi: Edit -> Clear all outputs\n",
        "# - restart: Runtime -> Restart runtime...\n",
        "\n",
        "wywolaj_rok()"
      ],
      "execution_count": 0,
      "outputs": [
        {
          "output_type": "stream",
          "text": [
            "Czy chcesz ponownie wywołać funkcję? T/N2020\n",
            "błędny komunikat, wracasz do początku\n"
          ],
          "name": "stdout"
        },
        {
          "output_type": "error",
          "ename": "NameError",
          "evalue": "ignored",
          "traceback": [
            "\u001b[0;31m---------------------------------------------------------------------------\u001b[0m",
            "\u001b[0;31mNameError\u001b[0m                                 Traceback (most recent call last)",
            "\u001b[0;32m<ipython-input-5-51eff9aad71f>\u001b[0m in \u001b[0;36m<module>\u001b[0;34m()\u001b[0m\n\u001b[1;32m      1\u001b[0m \u001b[0;34m\u001b[0m\u001b[0m\n\u001b[0;32m----> 2\u001b[0;31m \u001b[0mwywolaj_rok\u001b[0m\u001b[0;34m(\u001b[0m\u001b[0;34m)\u001b[0m\u001b[0;34m\u001b[0m\u001b[0;34m\u001b[0m\u001b[0m\n\u001b[0m",
            "\u001b[0;32m<ipython-input-3-d47c20481395>\u001b[0m in \u001b[0;36mwywolaj_rok\u001b[0;34m()\u001b[0m\n\u001b[1;32m     22\u001b[0m         \u001b[0mprint\u001b[0m\u001b[0;34m(\u001b[0m\u001b[0;34m\"błędny komunikat, wracasz do początku\"\u001b[0m\u001b[0;34m)\u001b[0m\u001b[0;34m\u001b[0m\u001b[0;34m\u001b[0m\u001b[0m\n\u001b[1;32m     23\u001b[0m         \u001b[0;31m#następnie ponownie wywołuję moją główną funkcję\u001b[0m\u001b[0;34m\u001b[0m\u001b[0;34m\u001b[0m\u001b[0;34m\u001b[0m\u001b[0m\n\u001b[0;32m---> 24\u001b[0;31m         \u001b[0mrok_przestepny\u001b[0m\u001b[0;34m(\u001b[0m\u001b[0;34m)\u001b[0m\u001b[0;34m\u001b[0m\u001b[0;34m\u001b[0m\u001b[0m\n\u001b[0m",
            "\u001b[0;31mNameError\u001b[0m: name 'rok_przestepny' is not defined"
          ]
        }
      ]
    },
    {
      "cell_type": "code",
      "metadata": {
        "id": "66w5ZafRoYKP",
        "colab_type": "code",
        "colab": {}
      },
      "source": [
        "#FUNKCJA 3 - końcowa funkcja, w której składam dwie poprzednie\n",
        "#nie jest długa - wystarczy tylko wywołać w niej początkową funkcję,\n",
        "#a następnie wywołać tę drugą funkcję, w której dajemy użytkownikowi możliwość podjęcia decyzji, czy chce ponowić procedurę\n",
        "\n",
        "def rok_przestepny():\n",
        "    jakirok()\n",
        "    wywolaj_rok()\n"
      ],
      "execution_count": 0,
      "outputs": []
    },
    {
      "cell_type": "code",
      "metadata": {
        "id": "YpDxHNEGqjGx",
        "colab_type": "code",
        "outputId": "3746b31a-b13f-4ad0-de84-48d7bf0b4249",
        "colab": {
          "base_uri": "https://localhost:8080/",
          "height": 286
        }
      },
      "source": [
        "#teraz tylko wywołuję funkcję rok_przestepny(), aby zakończyć zadanie\n",
        "rok_przestepny()"
      ],
      "execution_count": 0,
      "outputs": [
        {
          "output_type": "stream",
          "text": [
            "Podaj rok: 2003\n",
            "Rok 2003 nie jest przestępny\n",
            "Czy chcesz ponownie wywołać funkcję? T/NT\n",
            "Podaj rok: 1992\n",
            "Rok 1992 jest przestępny.\n",
            "Czy chcesz ponownie wywołać funkcję? T/NT\n",
            "Podaj rok: 2012\n",
            "Rok 2012 jest przestępny.\n",
            "Czy chcesz ponownie wywołać funkcję? T/Nfdfd\n",
            "błędny komunikat, wracasz do początku\n",
            "Podaj rok: 2001\n",
            "Rok 2001 nie jest przestępny\n",
            "Czy chcesz ponownie wywołać funkcję? T/NN\n",
            "pa pa\n",
            "\n",
            "\n"
          ],
          "name": "stdout"
        }
      ]
    },
    {
      "cell_type": "markdown",
      "metadata": {
        "id": "Pr8Axm0-rtiQ",
        "colab_type": "text"
      },
      "source": [
        "# if... elif... else..."
      ]
    },
    {
      "cell_type": "markdown",
      "metadata": {
        "id": "BQ6_ecxUr0Cm",
        "colab_type": "text"
      },
      "source": [
        "Ok, kiedyś już poznaliśmy podstawową strukturę instrukcji warunkowej **if()**. Teraz omówimy sobie rozszerzoną wersję, którą zastosowaliśmy w CASE 1.\n",
        "\n",
        "Zapewne pamiętają Państwo, że **if()** musi zawsze zawierać **warunek**, którego prawdziwość testujemy. Zawsze musi być też ścieżka **jeżeli prawda**. Po **else:** podajemy ścieżkę **jeżeli fałsz**. Ta ścieżka jest **opcjonalna** - zazwyczaj się ją podaje, ale jeśli nie jest nam potrzebna, możemy ją pominąć. \n",
        "\n",
        "W if() ważne jest pilnowanie **dwukropków** i **wcięć**.\n",
        "\n",
        "Pomiędzy **if warunek:** i **else:** możemy dać jeszcze **elif warunek:**. Elif to taki alternatywny if. Jeśli program przetestuje już warunek od if i stwierdzi, że odpowiedzią jest fałsz, wtedy przejdzie do pierwszego elif i sprawdzi przypisany do tego elif warunek - jeśli odpowiedzią będzie prawda, wtedy wykonany zostanie ten kod, który zamieściliśmy (po wcięciu) pod tym elifem. Jeśli natomiast będzie to również fałsz, wtedy - jeśli mamy więcej niż jeden elif - program będzie sprawdzał warunki kolejnych elifów i w ostateczność, jeśli nie natrafi nigdzie na prawdę, wtedy wykona to, co zamieściliśmy pod else:.\n",
        "\n",
        "Inaczej: if... elif... else służą nam do tego: \n",
        ">\"*Ok, gdyby ten mój główny warunek od if okazał się fałszywy, to może chociaż taki warunek byłby prawdziwy (pierwszy elif) albo jeszcze taki warunek (drugi elif itd.). A jeśli już nic nie jest prawdziwe, to zrób to (else).*\"\n",
        "\n",
        "W jednej instrukcji if może być tylko jeden else. Z elif nie ma takiego problemu - możemy, jeśli jest nam to potrzebne, umieścić kilka razy elif w jednej instrukcji if. \n",
        "\n",
        "Wewnątrz instrukcji if() możemy zamieszczać kolejne instrukcje if(). Jest to możliwe przy każdej ścieżce, zarówno od if, elif, jak i od else.\n"
      ]
    },
    {
      "cell_type": "markdown",
      "metadata": {
        "id": "LvB6mib_blA5",
        "colab_type": "text"
      },
      "source": [
        "Dodatkowe informacje znajdą o if... elif... else.. znajdą Państwo m.in. tu:\n",
        "\n",
        "[W3C - if elif else](https://www.w3schools.com/python/python_conditions.asp)\n",
        "\n",
        "[Decision Making in Python (if , if..else, Nested if, if-elif)](https://www.geeksforgeeks.org/decision-making-python-else-nested-elif/)\n",
        "\n",
        "[FlyNerd - Logika Pythona – instrukcje warunkowe](https://www.flynerd.pl/2018/03/python-6-logika-pythona-instrukcje-warunkowe.html)"
      ]
    },
    {
      "cell_type": "markdown",
      "metadata": {
        "id": "znOQGLPgr2nF",
        "colab_type": "text"
      },
      "source": [
        "# **CASE 2 - liczba jest 5-cyfrowa?**"
      ]
    },
    {
      "cell_type": "markdown",
      "metadata": {
        "id": "XX_m0m3_r6Xo",
        "colab_type": "text"
      },
      "source": [
        "W tym przypadku piszę funkcję, za pomocą której sprawdzę, czy liczba podana przez użytkownika jest 5-cyfrowa.\n",
        "\n",
        "Pokazuję Państwu jeden z możliwych wariantów. Wymyślenie innych pozostawiam Państwu.\n",
        "\n",
        "Proszę prześledzić działanie poniższego kodu i zastanowić się nad jego ograniczeniami. \n",
        "\n",
        "*   W jakich sytuacjach funkcja nie da oczekiwanego rezultatu?\n",
        "*   Kiedy może wyskoczyć błąd?\n",
        "*   Co by należało poprawić w poniższym kodzie?"
      ]
    },
    {
      "cell_type": "code",
      "metadata": {
        "id": "qozTkOFbr7Nb",
        "colab_type": "code",
        "outputId": "af8a09fe-52ba-4390-8a8e-aa204a5bc0ac",
        "colab": {
          "base_uri": "https://localhost:8080/",
          "height": 185
        }
      },
      "source": [
        "#Nazywam funkcję w sposób kojarzący się z jej działaniem\n",
        "#uwaga: pamiętam, że nazwy nie mogą rozpoczynać się od cyfr\n",
        "def cyfra5():\n",
        "    liczba=int(input(\"Podaj liczbę: \"))\n",
        "    ciagliczb=str(liczba)\n",
        "    if len(ciagliczb) == 5:\n",
        "        print(\"Tak, podana liczba jest 5-cyfrowa\")\n",
        "    else:\n",
        "        print(\"Nie, podana liczba nie jest 5-cyfrowa\")\n",
        "\n",
        "    #Teraz wpowadzam jakąś drugą zmienną - przyda mi się, do pobrania od użytkownika decyzji, czy chce ponowić operację\n",
        "    x=input(\"Czy chcesz powtórzyć operację? T/N\")\n",
        "    if x==\"T\":\n",
        "        cyfra5()\n",
        "    else:\n",
        "        print(\"pa pa\")\n",
        "cyfra5()"
      ],
      "execution_count": 0,
      "outputs": [
        {
          "output_type": "stream",
          "text": [
            "Podaj liczbę: 17\n",
            "Nie, podana liczba nie jest 5-cyfrowa\n",
            "Czy chcesz powtórzyć operację? T/NT\n",
            "Podaj liczbę: 12345\n",
            "Tak, podana liczba jest 5-cyfrowa\n",
            "Czy chcesz powtórzyć operację? T/NT\n",
            "Podaj liczbę: 12345678\n",
            "Nie, podana liczba nie jest 5-cyfrowa\n",
            "Czy chcesz powtórzyć operację? T/NN\n",
            "pa pa\n"
          ],
          "name": "stdout"
        }
      ]
    },
    {
      "cell_type": "markdown",
      "metadata": {
        "id": "M0scxnDZ0TML",
        "colab_type": "text"
      },
      "source": [
        "# **CASE 3 - data urodzin pisarza**"
      ]
    },
    {
      "cell_type": "markdown",
      "metadata": {
        "id": "APswOwDI0Ykn",
        "colab_type": "text"
      },
      "source": [
        "Nasze zadanie wygląda tak: użytkownik wpisuje pisarza, nasza funkcja podaje mu datę urodzin tej osoby. Jeśli użytkownik wpisał dane, których nie uwzględniliśmy, zadaniem funkcji jest wypisanie komunikatu, który poinformuje użytkownika o tym, że nie posiada takich danych.\n",
        "\n",
        "Oto dane, które uwzględniamy:\n",
        "\n",
        "*   J.R.R. Tolkien - 3.01.1892\n",
        "*   C.S. Lewis - 29.11.1898\n",
        "*   Ursula K. Le Guin - 21.10.1929\n",
        "\n",
        "Zadanie przećwiczymy w dwóch wersjach: 1. **słownik**, 2. **if... elif.. else...**\n"
      ]
    },
    {
      "cell_type": "code",
      "metadata": {
        "id": "RbcR6jE00Y4I",
        "colab_type": "code",
        "colab": {}
      },
      "source": [
        "#wersja 1 ze słownikiem\n",
        "def pisarz():\n",
        "  #słownik\n",
        "  pisarz_dict = {\"J.R.R. Tolkien\" : \"3.01.1892\", \n",
        "                 \"C.S. Lewis\" : \"29.11.1898\", \n",
        "                 \"Ursula K. Le Guin\" : \"21.10.1929\"}\n",
        "  AU=input(\"Podaj nazwisko osoby, której datę urodzin chcesz poznać: \")\n",
        "  if AU in pisarz_dict.keys():\n",
        "    #ścieżka TAK\n",
        "    print(pisarz_dict[AU])\n",
        "  else:\n",
        "    print(\"Tej osoby nie ma w bazie.\")"
      ],
      "execution_count": 0,
      "outputs": []
    },
    {
      "cell_type": "code",
      "metadata": {
        "id": "insO-LXBXfL7",
        "colab_type": "code",
        "outputId": "9e99971d-7f27-4ec0-a5ff-32f55ae06dcf",
        "colab": {
          "base_uri": "https://localhost:8080/",
          "height": 50
        }
      },
      "source": [
        "#wersja 1 ze słownikiem\n",
        "#wywołuję funkcję pisarz()\n",
        "pisarz()"
      ],
      "execution_count": 0,
      "outputs": [
        {
          "output_type": "stream",
          "text": [
            "Podaj nazwisko osoby, której datę urodzin chcesz poznać: J.R.R. Tolkien\n",
            "3.01.1892\n"
          ],
          "name": "stdout"
        }
      ]
    },
    {
      "cell_type": "markdown",
      "metadata": {
        "id": "E0kT55HOXmLP",
        "colab_type": "text"
      },
      "source": [
        "W tej wersji ze słownikiem, aby otrzymać poprawną odpowiedź, użytkownik musi wpisać dokładnie inicjały imion i nazwisko. Co w sytuacji, gdy wpisze np. samo Tolkien? Możemy się przygotować na taką sytuację, dodając kolejne warianty w słowniku."
      ]
    },
    {
      "cell_type": "code",
      "metadata": {
        "id": "lord-vLlXfWN",
        "colab_type": "code",
        "colab": {}
      },
      "source": [
        "#wersja 1 ze słownikiem zmodyfikowanym o inne warianty pisowni (samo nazwisko)\n",
        "def pisarz_zm():\n",
        "  #słownik\n",
        "  pisarz_dict = {\"J.R.R. Tolkien\" : \"3.01.1892\", \n",
        "                 \"C.S. Lewis\" : \"29.11.1898\", \n",
        "                 \"Ursula K. Le Guin\" : \"21.10.1929\",\n",
        "                 \"Tolkien\" : \"3.01.1892\", \n",
        "                 \"Lewis\" : \"29.11.1898\", \n",
        "                 \"Le Guin\" : \"21.10.1929\"}\n",
        "  AU=input(\"Podaj nazwisko osoby, której datę urodzin chcesz poznać: \")\n",
        "  if AU in pisarz_dict.keys():\n",
        "    #ścieżka TAK\n",
        "    print(pisarz_dict[AU])\n",
        "  else:\n",
        "    print(\"Tej osoby nie ma w bazie.\")\n"
      ],
      "execution_count": 0,
      "outputs": []
    },
    {
      "cell_type": "code",
      "metadata": {
        "id": "B00u4RI_Xw0X",
        "colab_type": "code",
        "outputId": "960bc48a-6286-4767-ffe4-828beb91e71d",
        "colab": {
          "base_uri": "https://localhost:8080/",
          "height": 50
        }
      },
      "source": [
        "pisarz_zm()"
      ],
      "execution_count": 0,
      "outputs": [
        {
          "output_type": "stream",
          "text": [
            "Podaj nazwisko osoby, której datę urodzin chcesz poznać: Tolkien\n",
            "3.01.1892\n"
          ],
          "name": "stdout"
        }
      ]
    },
    {
      "cell_type": "code",
      "metadata": {
        "id": "Rr6kEl8PXztU",
        "colab_type": "code",
        "colab": {}
      },
      "source": [
        "#wersja 2 z if... elif... else...\n",
        "def pisarz_if():\n",
        "  pisarz = input(\"Podaj nazwisko osoby, której datę urodzenia chcesz poznać: \")\n",
        "  #tutaj od razu przygotowuję się na dwa warianty - inicjały + nazwisko i samo nazwisko\n",
        "  #w tym celu stosuję alternatywę w warunku - or \n",
        "  #działanie or powinni Państwo pamiętać ze Środowiska informacyjnego - wystarczy, że prawdziwe będzie jedno zdanie, aby całość była prawdziwa\n",
        "  if pisarz == \"J.R.R. Tolkien\" or pisarz == \"Tolkien\":\n",
        "    print(\"3.01.1892\")\n",
        "  elif pisarz== \"C.S. Lewis\" or pisarz == \"Lewis\":\n",
        "    print(\"29.11.1898\")\n",
        "  elif pisarz == \"Ursula K. Le Guin\" or pisarz == \"Le Guin\":\n",
        "    print(\"21.10.1929\")\n",
        "  else:\n",
        "    print(\"Tej osoby nie ma w bazie.\")"
      ],
      "execution_count": 0,
      "outputs": []
    },
    {
      "cell_type": "code",
      "metadata": {
        "id": "z2RqW82AX2x1",
        "colab_type": "code",
        "outputId": "d80ea334-8aa1-4c96-dc83-13834b34cee7",
        "colab": {
          "base_uri": "https://localhost:8080/",
          "height": 50
        }
      },
      "source": [
        "#wersja 2\n",
        "#wywołuję funkcję pisarz_if()\n",
        "pisarz_if()"
      ],
      "execution_count": 0,
      "outputs": [
        {
          "output_type": "stream",
          "text": [
            "Podaj nazwisko osoby, której datę urodzenia chcesz poznać: Le Guin\n",
            "21.10.1929\n"
          ],
          "name": "stdout"
        }
      ]
    },
    {
      "cell_type": "markdown",
      "metadata": {
        "id": "Gg30wDziX6A4",
        "colab_type": "text"
      },
      "source": [
        "Tym sposobem napisaliśmy podstawową funkcję, która poda nam datę urodzin pisarza. W dwóch wersjach - ze słownikiem oraz bez.\n",
        "\n",
        "Zachęcam Państwa, do samodzielnego rozszerzenia przynajmniej jednej wersji na wzór CASE 1, tj. danie użytkownikowi możliwości powtórzenia operacji."
      ]
    },
    {
      "cell_type": "markdown",
      "metadata": {
        "id": "4ZwlijDo8JHR",
        "colab_type": "text"
      },
      "source": [
        "# **zadania**"
      ]
    },
    {
      "cell_type": "markdown",
      "metadata": {
        "id": "krZ6jvqt8fu_",
        "colab_type": "text"
      },
      "source": [
        "**ĆWICZENIE 1.** Napisz funkcję, za pomocą której podasz pełną nazwę skrótu wybranego przez użytkownika. Oto dane, które posiadasz:\n",
        "\n",
        "*   IEEE - Institute of Electrical and Electronics Engineers\n",
        "*   SQL - Structured Query Language\n",
        "*   W3C - World Wide Web Consortium\n",
        "\n",
        "**ĆWICZENIE 2.** Napisz funkcję służącą wskazaniu minimum z dwóch liczb. Owe liczby ma podać użytkownik z klawiatury. \n",
        "\n",
        "\n"
      ]
    },
    {
      "cell_type": "code",
      "metadata": {
        "id": "Bg5godSPEJog",
        "colab_type": "code",
        "colab": {}
      },
      "source": [
        "#Miejsce na Państwa rozwiązania. \n",
        "#Oczywiście nie musi być wszystko w jednej komórce kodu; mogą dodawać Państwo tyle komórek kodu, ile zechcą."
      ],
      "execution_count": 0,
      "outputs": []
    },
    {
      "cell_type": "markdown",
      "metadata": {
        "id": "XlrNGbVWCRm4",
        "colab_type": "text"
      },
      "source": [
        "Ćwiczenie 1"
      ]
    },
    {
      "cell_type": "code",
      "metadata": {
        "id": "4DOcVXt1avvq",
        "colab_type": "code",
        "colab": {}
      },
      "source": [
        "def nazwa():\n",
        "  skroty_dict = {\"IEEE\" : \"Institute of Electrical and Electronics Engineers\",\n",
        "                 \"SQL\" : \"Structured Query Language\",\n",
        "                 \"W3C\" : \"World Wide Web Consortium\"}\n",
        "  NZ=input(\"Podaj skrót, aby poznać pełną nazwę: \")\n",
        "  if NZ in skroty_dict.keys():\n",
        "    print(skroty_dict[NZ])\n",
        "  else:\n",
        "    print(\"Tego skrótu nie ma w bazie. \")"
      ],
      "execution_count": 0,
      "outputs": []
    },
    {
      "cell_type": "code",
      "metadata": {
        "id": "gLyVvRLUEIqt",
        "colab_type": "code",
        "outputId": "396903cf-22ba-4f53-a7c9-c068afb8445b",
        "colab": {
          "base_uri": "https://localhost:8080/",
          "height": 51
        }
      },
      "source": [
        "nazwa()"
      ],
      "execution_count": 0,
      "outputs": [
        {
          "output_type": "stream",
          "text": [
            "Podaj skrót, aby poznać pełną nazwę: IEEE\n",
            "Institute of Electrical and Electronics Engineers\n"
          ],
          "name": "stdout"
        }
      ]
    },
    {
      "cell_type": "code",
      "metadata": {
        "id": "41NjQOFRFUs5",
        "colab_type": "code",
        "outputId": "3cc49a47-a725-4dba-96df-f78aa4e8bc3f",
        "colab": {
          "base_uri": "https://localhost:8080/",
          "height": 51
        }
      },
      "source": [
        "nazwa()"
      ],
      "execution_count": 0,
      "outputs": [
        {
          "output_type": "stream",
          "text": [
            "Podaj skrót, aby poznać pełną nazwę: WW3\n",
            "Tego skrótu nie ma w bazie. \n"
          ],
          "name": "stdout"
        }
      ]
    },
    {
      "cell_type": "markdown",
      "metadata": {
        "id": "hCmi9PIEE1Gm",
        "colab_type": "text"
      },
      "source": [
        "Ćwiczenie 2"
      ]
    },
    {
      "cell_type": "code",
      "metadata": {
        "id": "kmPG19JBEuga",
        "colab_type": "code",
        "colab": {}
      },
      "source": [
        "def liczby():\n",
        "  x = int(input(\"Podaj liczbę: \"))\n",
        "  y = int(input(\"Podaj drugą liczbę: \"))\n",
        "  if x < y:\n",
        "    print(x, \"jest mniejsze od\", y)\n",
        "  elif (x == y):\n",
        "    print(\"Liczby są równe\")\n",
        "  else:\n",
        "    print(x, \"nie jest mniejsze od\", y)\n",
        " "
      ],
      "execution_count": 0,
      "outputs": []
    },
    {
      "cell_type": "code",
      "metadata": {
        "id": "3VAO0cBYN4kY",
        "colab_type": "code",
        "outputId": "23fcc082-fcab-43e5-df25-d4eb01f2bd26",
        "colab": {
          "base_uri": "https://localhost:8080/",
          "height": 68
        }
      },
      "source": [
        "liczby()"
      ],
      "execution_count": 0,
      "outputs": [
        {
          "output_type": "stream",
          "text": [
            "Podaj liczbę: 23\n",
            "Podaj drugą liczbę: 54\n",
            "23 jest mniejsze od 54\n"
          ],
          "name": "stdout"
        }
      ]
    },
    {
      "cell_type": "code",
      "metadata": {
        "id": "7PtdNU1uQCb-",
        "colab_type": "code",
        "colab": {}
      },
      "source": [
        ""
      ],
      "execution_count": 0,
      "outputs": []
    }
  ]
}